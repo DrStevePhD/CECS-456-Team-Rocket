{
 "cells": [
  {
   "cell_type": "code",
   "execution_count": 7,
   "metadata": {},
   "outputs": [
    {
     "data": {
      "text/plain": [
       "(8144,)"
      ]
     },
     "execution_count": 7,
     "metadata": {},
     "output_type": "execute_result"
    }
   ],
   "source": [
    "import pandas as pd\n",
    "import numpy as np\n",
    "from sklearn.neural_network import MLPClassifier\n",
    "import matplotlib.pyplot as plt\n",
    "import os\n",
    "\n",
    "X_train = []\n",
    "X_test = []\n",
    "train_image_path = \"C://Users//llols//Documents//GitHub//CECS-456-Team-Rocket//archive//cars_train//cars_train\"\n",
    "test_image_path = \"C://Users//llols//Documents//GitHub//CECS-456-Team-Rocket//archive//cars_test//cars_test\"\n",
    "\n",
    "# Add images to a numpy array\n",
    "for img in os.listdir(train_image_path):\n",
    "    X_train.append(img)\n",
    "\n",
    "for img in os.listdir(test_image_path):\n",
    "    X_test.append(img)\n",
    "\n",
    "X_train = np.array(X_train)\n",
    "X_test = np.array(X_test)\n",
    "\n",
    "X_train.shape"
   ]
  }
 ],
 "metadata": {
  "kernelspec": {
   "display_name": "Python 3",
   "language": "python",
   "name": "python3"
  },
  "language_info": {
   "codemirror_mode": {
    "name": "ipython",
    "version": 3
   },
   "file_extension": ".py",
   "mimetype": "text/x-python",
   "name": "python",
   "nbconvert_exporter": "python",
   "pygments_lexer": "ipython3",
   "version": "3.10.11"
  },
  "orig_nbformat": 4
 },
 "nbformat": 4,
 "nbformat_minor": 2
}
