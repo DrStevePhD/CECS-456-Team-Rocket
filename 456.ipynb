{
 "cells": [
  {
   "cell_type": "code",
   "execution_count": 1,
   "id": "b73e7555",
   "metadata": {},
   "outputs": [],
   "source": [
    "import tensorflow as tf\n",
    "import pandas as pd\n",
    "import matplotlib.pyplot as plt\n",
    "import cv2\n",
    "import os\n",
    "import glob as gb\n",
    "import numpy as np\n"
   ]
  },
  {
   "cell_type": "code",
   "execution_count": 2,
   "id": "c752a579",
   "metadata": {},
   "outputs": [],
   "source": [
    "path = os.getcwd()+ '/Downloads/car_data'"
   ]
  },
  {
   "cell_type": "code",
   "execution_count": 3,
   "id": "74eefcd2",
   "metadata": {},
   "outputs": [],
   "source": [
    "train = path+\"/train\"\n",
    "test = path+\"/test\"\n",
    "train_labels = []\n",
    "train_images = []\n",
    "test_labels = []\n",
    "test_images = []\n"
   ]
  },
  {
   "cell_type": "code",
   "execution_count": 4,
   "id": "881ea894",
   "metadata": {},
   "outputs": [],
   "source": [
    "train_path =  [folder for folder in os.listdir(train) if not folder.startswith('.')]\n",
    "test_path =  [folder for folder in os.listdir(test) if not folder.startswith('.')]\n",
    "\n",
    "\n",
    "## get # of photos for train & test\n",
    "train_len = -1\n",
    "for i in os.walk(train, topdown=True):\n",
    "        train_len += len(i[2]) \n",
    "\n",
    "test_len = -1\n",
    "for i in os.walk(test, topdown=True):\n",
    "        test_len += len(i[2]) \n",
    "\n",
    "## add the type of cars into dict\n",
    "d = dict()\n",
    "idx = 0\n",
    "for folder in test_path:\n",
    "    d[folder] = idx\n",
    "    idx+= 1"
   ]
  },
  {
   "cell_type": "code",
   "execution_count": 5,
   "id": "aba3cbb9",
   "metadata": {},
   "outputs": [],
   "source": [
    "for folder in test_path:\n",
    "    jpg_path = gb.glob(pathname = test + \"/\" + folder + \"/*.jpg\")\n",
    "    \n",
    "    for img in jpg_path:\n",
    "        img_name = os.path.basename(img)\n",
    "        image = cv2.imread(img)\n",
    "        test_labels.append(np.array(d[folder]))\n",
    "        image = cv2.resize(image, (550,550))\n",
    "        test_images.append(np.array(image))\n",
    "\n",
    "for folder in train_path:\n",
    "    jpg_path = gb.glob(pathname = train + \"/\" + folder + \"/*.jpg\")\n",
    "    \n",
    "    for img in jpg_path:\n",
    "        img_name = os.path.basename(img)\n",
    "        image = cv2.imread(img)\n",
    "        train_labels.append(np.array(d[folder]))\n",
    "        image = cv2.resize(image, (550,550))\n",
    "        train_images.append(np.array(image))\n",
    "        "
   ]
  },
  {
   "cell_type": "code",
   "execution_count": 6,
   "id": "256238dd",
   "metadata": {},
   "outputs": [],
   "source": [
    "train_labels = np.array(train_labels)\n",
    "train_labels = np.reshape(train_labels, (-1, 1))\n",
    "\n",
    "test_labels = np.array(test_labels)\n",
    "test_labels = np.reshape(test_labels, (-1, 1))\n",
    "\n",
    "train_images = np.array(train_images)\n",
    "test_images = np.array(test_images)\n",
    "\n"
   ]
  },
  {
   "cell_type": "code",
   "execution_count": null,
   "id": "bb7dc39e",
   "metadata": {},
   "outputs": [],
   "source": [
    "train_images, test_images= train_images / 255.0, test_images/ 255.0\n"
   ]
  },
  {
   "cell_type": "code",
   "execution_count": null,
   "id": "9a4088c7",
   "metadata": {
    "scrolled": false
   },
   "outputs": [],
   "source": [
    "from tensorflow.keras import datasets, layers, models\n",
    "model = models.Sequential()\n",
    "model.add(layers.Conv2D(32, (3, 3), activation='relu', input_shape=(550, 550, 3)))\n",
    "model.add(layers.MaxPooling2D((2, 2)))\n",
    "model.add(layers.Conv2D(64, (3, 3), activation='relu'))\n",
    "model.add(layers.MaxPooling2D((2, 2)))\n",
    "model.add(layers.Conv2D(64, (3, 3), activation='relu'))\n"
   ]
  },
  {
   "cell_type": "code",
   "execution_count": null,
   "id": "14322380",
   "metadata": {},
   "outputs": [],
   "source": [
    "model.add(layers.Flatten())\n",
    "model.add(layers.Dense(64, activation='relu'))\n",
    "model.add(layers.Dense(10))"
   ]
  },
  {
   "cell_type": "code",
   "execution_count": null,
   "id": "c3529980",
   "metadata": {},
   "outputs": [],
   "source": [
    "for folder in train_path:\n",
    "    jpg_path = gb.glob(pathname = test + \"/\" + folder + \"/*.jpg\")\n",
    "    \n",
    "    for img in jpg_path:\n",
    "        img_name = os.path.basename(img)\n",
    "        image = cv2.imread(img)\n",
    "        np.append(test_labels,np.array(folder))\n",
    "        np.append(test_images,np.array(image))"
   ]
  },
  {
   "cell_type": "code",
   "execution_count": null,
   "id": "3d5198ac",
   "metadata": {},
   "outputs": [],
   "source": [
    "model.compile(optimizer='adam',\n",
    "              loss=tf.keras.losses.SparseCategoricalCrossentropy(from_logits=True),\n",
    "              metrics=['accuracy'])\n",
    "\n",
    "history = model.fit(train_images, train_labels, epochs=10,\n",
    "                    validation_data=(test_images, test_labels))"
   ]
  },
  {
   "cell_type": "markdown",
   "id": "5bb3ee41",
   "metadata": {},
   "source": [
    "model.summary()"
   ]
  },
  {
   "cell_type": "code",
   "execution_count": null,
   "id": "33c1b54f",
   "metadata": {},
   "outputs": [],
   "source": [
    "y_pred = model.predict(test_images)\n",
    "pred_label = np.argmax(y_pred,axis = 1)\n",
    "plt.figure(figsize=(25,25))\n",
    "\n",
    "def getLabel(i):\n",
    "    return (list(d.keys())[list(d.values()).index(i)])  \n",
    "\n",
    "for i in range(25):\n",
    "    \n",
    "    plt.subplot(5,5,i+1)\n",
    "    plt.xticks([])\n",
    "    plt.yticks([])\n",
    "    plt.grid(False)\n",
    "    \n",
    "    plt.imshow(test_images[i])\n",
    "    # The CIFAR labels happen to be arrays, \n",
    "    # which is why you need the extra index\n",
    "    plt.title(\"True: \" + getLabel(test_labels[i][0]) + \"\\n\" + \"Predicted: \" + getLabel(pred_label[i]))\n",
    "plt.tight_layout()\n",
    "plt.show()"
   ]
  }
 ],
 "metadata": {
  "kernelspec": {
   "display_name": "Python 3 (ipykernel)",
   "language": "python",
   "name": "python3"
  },
  "language_info": {
   "codemirror_mode": {
    "name": "ipython",
    "version": 3
   },
   "file_extension": ".py",
   "mimetype": "text/x-python",
   "name": "python",
   "nbconvert_exporter": "python",
   "pygments_lexer": "ipython3",
   "version": "3.10.9"
  }
 },
 "nbformat": 4,
 "nbformat_minor": 5
}
