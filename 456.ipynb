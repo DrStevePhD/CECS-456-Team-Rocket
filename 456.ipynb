{
 "cells": [
  {
   "cell_type": "code",
   "execution_count": 14,
   "id": "b73e7555",
   "metadata": {},
   "outputs": [],
   "source": [
    "import tensorflow as tf\n",
    "import pandas as pd\n",
    "import matplotlib as plt\n",
    "import cv2\n",
    "import os\n",
    "import glob as gb\n",
    "import numpy as np\n",
    "import fnmatch\n"
   ]
  },
  {
   "cell_type": "code",
   "execution_count": 15,
   "id": "c752a579",
   "metadata": {},
   "outputs": [],
   "source": [
    "path = os.getcwd()+ '/Downloads/car_data'"
   ]
  },
  {
   "cell_type": "code",
   "execution_count": 16,
   "id": "74eefcd2",
   "metadata": {},
   "outputs": [],
   "source": [
    "train = path+\"/train\"\n",
    "test = path+\"/test\"\n",
    "train_labels = []\n",
    "train_images = []\n",
    "test_labels = []\n",
    "test_images = []\n"
   ]
  },
  {
   "cell_type": "code",
   "execution_count": 18,
   "id": "881ea894",
   "metadata": {},
   "outputs": [
    {
     "data": {
      "text/plain": [
       "(480, 640, 3)      989\n",
       "(768, 1024, 3)     470\n",
       "(194, 259, 3)      392\n",
       "(360, 480, 3)      199\n",
       "(225, 300, 3)      190\n",
       "                  ... \n",
       "(800, 533, 3)        1\n",
       "(335, 630, 3)        1\n",
       "(365, 486, 3)        1\n",
       "(840, 1200, 3)       1\n",
       "(3240, 4320, 3)      1\n",
       "Length: 2267, dtype: int64"
      ]
     },
     "execution_count": 18,
     "metadata": {},
     "output_type": "execute_result"
    }
   ],
   "source": [
    "train_path =  [folder for folder in os.listdir(train) if not folder.startswith('.')]\n",
    "test_path =  [folder for folder in os.listdir(test) if not folder.startswith('.')]\n",
    "\n",
    "size = []\n",
    "for folder in train_path: \n",
    "    files = gb.glob(pathname= str( train +'/' + folder + '/*.jpg'))\n",
    "    for file in files: \n",
    "        image = cv2.imread(file)\n",
    "        size.append(image.shape)\n",
    "pd.Series(size).value_counts()\n",
    "\n",
    "\n",
    "\n",
    "\n",
    "\n",
    "# train_len = -1\n",
    "# for i in os.walk(train, topdown=True):\n",
    "#         train_len += len(i[2]) \n",
    "\n",
    "# test_len = -1\n",
    "# for i in os.walk(test, topdown=True):\n",
    "#         test_len += len(i[2]) \n",
    "\n",
    "# train_labels = np.array(len(train_path))\n",
    "# test_labels = np.array(len(test_path))\n",
    "# train_images = np.array(train_len)\n",
    "# test_images = np.array(test_len)\n",
    "\n",
    "\n",
    "\n",
    "\n",
    "# for folder in train_path:\n",
    "#     jpg_path = gb.glob(pathname = train + \"/\" + folder + \"/*.jpg\")\n",
    "    \n",
    "#     for img in jpg_path:\n",
    "#         img_name = os.path.basename(img)\n",
    "#         image = cv2.imread(img)\n",
    "#         np.append(train_labels,np.array(folder))\n",
    "#         np.append(train_images,np.array(image))\n",
    "\n",
    "# # for folder in test_path:\n",
    "# #     jpg_path = gb.glob(pathname = test + \"/\" + folder + \"/*.jpg\")\n",
    "    \n",
    "# #     for img in jpg_path:\n",
    "# #         img_name = os.path.basename(img)\n",
    "# #         image = cv2.imread(img)\n",
    "# #         np.append(test_labels,np.array(folder))\n",
    "# #         np.append(test_images,np.array(image))\n",
    "        \n",
    "# print(train_labels.shape,train_images.shape)\n",
    "\n",
    "\n",
    "# print(type(train_images),type(test_images))\n",
    "\n",
    "\n",
    "\n",
    "\n",
    "\n",
    "\n",
    "        "
   ]
  },
  {
   "cell_type": "code",
   "execution_count": 5,
   "id": "239f7c38",
   "metadata": {},
   "outputs": [
    {
     "name": "stdout",
     "output_type": "stream",
     "text": [
      "<class 'numpy.ndarray'> <class 'numpy.ndarray'>\n"
     ]
    }
   ],
   "source": [
    "print()\n",
    "print(type(train_images),type(test_images))"
   ]
  },
  {
   "cell_type": "code",
   "execution_count": 6,
   "id": "9a4088c7",
   "metadata": {
    "scrolled": false
   },
   "outputs": [],
   "source": [
    "from tensorflow.keras import datasets, layers, models\n",
    "model = models.Sequential()\n",
    "model.add(layers.Conv2D(32, (3, 3), activation='relu', input_shape=(32, 32, 3)))\n",
    "model.add(layers.MaxPooling2D((2, 2)))\n",
    "model.add(layers.Conv2D(64, (3, 3), activation='relu'))\n",
    "model.add(layers.MaxPooling2D((2, 2)))\n",
    "model.add(layers.Conv2D(64, (3, 3), activation='relu'))"
   ]
  },
  {
   "cell_type": "code",
   "execution_count": 7,
   "id": "14322380",
   "metadata": {},
   "outputs": [],
   "source": [
    "model.add(layers.Flatten())\n",
    "model.add(layers.Dense(64, activation='relu'))\n",
    "model.add(layers.Dense(10))"
   ]
  },
  {
   "cell_type": "code",
   "execution_count": 8,
   "id": "3d5198ac",
   "metadata": {},
   "outputs": [
    {
     "ename": "IndexError",
     "evalue": "tuple index out of range",
     "output_type": "error",
     "traceback": [
      "\u001b[0;31m---------------------------------------------------------------------------\u001b[0m",
      "\u001b[0;31mIndexError\u001b[0m                                Traceback (most recent call last)",
      "Cell \u001b[0;32mIn[8], line 5\u001b[0m\n\u001b[1;32m      1\u001b[0m model\u001b[38;5;241m.\u001b[39mcompile(optimizer\u001b[38;5;241m=\u001b[39m\u001b[38;5;124m'\u001b[39m\u001b[38;5;124madam\u001b[39m\u001b[38;5;124m'\u001b[39m,\n\u001b[1;32m      2\u001b[0m               loss\u001b[38;5;241m=\u001b[39mtf\u001b[38;5;241m.\u001b[39mkeras\u001b[38;5;241m.\u001b[39mlosses\u001b[38;5;241m.\u001b[39mSparseCategoricalCrossentropy(from_logits\u001b[38;5;241m=\u001b[39m\u001b[38;5;28;01mTrue\u001b[39;00m),\n\u001b[1;32m      3\u001b[0m               metrics\u001b[38;5;241m=\u001b[39m[\u001b[38;5;124m'\u001b[39m\u001b[38;5;124maccuracy\u001b[39m\u001b[38;5;124m'\u001b[39m])\n\u001b[0;32m----> 5\u001b[0m history \u001b[38;5;241m=\u001b[39m \u001b[43mmodel\u001b[49m\u001b[38;5;241;43m.\u001b[39;49m\u001b[43mfit\u001b[49m\u001b[43m(\u001b[49m\u001b[43mtrain_images\u001b[49m\u001b[43m,\u001b[49m\u001b[43m \u001b[49m\u001b[43mtrain_labels\u001b[49m\u001b[43m,\u001b[49m\u001b[43m \u001b[49m\u001b[43mepochs\u001b[49m\u001b[38;5;241;43m=\u001b[39;49m\u001b[38;5;241;43m10\u001b[39;49m\u001b[43m,\u001b[49m\u001b[43m \u001b[49m\n\u001b[1;32m      6\u001b[0m \u001b[43m                    \u001b[49m\u001b[43mvalidation_data\u001b[49m\u001b[38;5;241;43m=\u001b[39;49m\u001b[43m(\u001b[49m\u001b[43mtest_images\u001b[49m\u001b[43m,\u001b[49m\u001b[43m \u001b[49m\u001b[43mtest_labels\u001b[49m\u001b[43m)\u001b[49m\u001b[43m)\u001b[49m\n",
      "File \u001b[0;32m~/anaconda3/lib/python3.10/site-packages/keras/utils/traceback_utils.py:70\u001b[0m, in \u001b[0;36mfilter_traceback.<locals>.error_handler\u001b[0;34m(*args, **kwargs)\u001b[0m\n\u001b[1;32m     67\u001b[0m     filtered_tb \u001b[38;5;241m=\u001b[39m _process_traceback_frames(e\u001b[38;5;241m.\u001b[39m__traceback__)\n\u001b[1;32m     68\u001b[0m     \u001b[38;5;66;03m# To get the full stack trace, call:\u001b[39;00m\n\u001b[1;32m     69\u001b[0m     \u001b[38;5;66;03m# `tf.debugging.disable_traceback_filtering()`\u001b[39;00m\n\u001b[0;32m---> 70\u001b[0m     \u001b[38;5;28;01mraise\u001b[39;00m e\u001b[38;5;241m.\u001b[39mwith_traceback(filtered_tb) \u001b[38;5;28;01mfrom\u001b[39;00m \u001b[38;5;28mNone\u001b[39m\n\u001b[1;32m     71\u001b[0m \u001b[38;5;28;01mfinally\u001b[39;00m:\n\u001b[1;32m     72\u001b[0m     \u001b[38;5;28;01mdel\u001b[39;00m filtered_tb\n",
      "File \u001b[0;32m~/anaconda3/lib/python3.10/site-packages/tensorflow/python/framework/tensor_shape.py:910\u001b[0m, in \u001b[0;36mTensorShape.__getitem__\u001b[0;34m(self, key)\u001b[0m\n\u001b[1;32m    908\u001b[0m \u001b[38;5;28;01melse\u001b[39;00m:\n\u001b[1;32m    909\u001b[0m   \u001b[38;5;28;01mif\u001b[39;00m \u001b[38;5;28mself\u001b[39m\u001b[38;5;241m.\u001b[39m_v2_behavior:\n\u001b[0;32m--> 910\u001b[0m     \u001b[38;5;28;01mreturn\u001b[39;00m \u001b[38;5;28;43mself\u001b[39;49m\u001b[38;5;241;43m.\u001b[39;49m\u001b[43m_dims\u001b[49m\u001b[43m[\u001b[49m\u001b[43mkey\u001b[49m\u001b[43m]\u001b[49m\n\u001b[1;32m    911\u001b[0m   \u001b[38;5;28;01melse\u001b[39;00m:\n\u001b[1;32m    912\u001b[0m     \u001b[38;5;28;01mreturn\u001b[39;00m \u001b[38;5;28mself\u001b[39m\u001b[38;5;241m.\u001b[39mdims[key]\n",
      "\u001b[0;31mIndexError\u001b[0m: tuple index out of range"
     ]
    }
   ],
   "source": [
    "model.compile(optimizer='adam',\n",
    "              loss=tf.keras.losses.SparseCategoricalCrossentropy(from_logits=True),\n",
    "              metrics=['accuracy'])\n",
    "\n",
    "history = model.fit(train_images, train_labels, epochs=10, \n",
    "                    validation_data=(test_images, test_labels))"
   ]
  },
  {
   "cell_type": "code",
   "execution_count": null,
   "id": "33c1b54f",
   "metadata": {},
   "outputs": [],
   "source": []
  }
 ],
 "metadata": {
  "kernelspec": {
   "display_name": "Python 3 (ipykernel)",
   "language": "python",
   "name": "python3"
  },
  "language_info": {
   "codemirror_mode": {
    "name": "ipython",
    "version": 3
   },
   "file_extension": ".py",
   "mimetype": "text/x-python",
   "name": "python",
   "nbconvert_exporter": "python",
   "pygments_lexer": "ipython3",
   "version": "3.10.9"
  }
 },
 "nbformat": 4,
 "nbformat_minor": 5
}
